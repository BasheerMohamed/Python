{
 "cells": [
  {
   "cell_type": "markdown",
   "id": "d78798ea",
   "metadata": {},
   "source": [
    "<h3 style=\"font-family:monospace\">NumPy Array Indexing :</h3>"
   ]
  },
  {
   "cell_type": "markdown",
   "id": "2d4bae84",
   "metadata": {},
   "source": [
    "<ul style=\"font-family:monospace\">\n",
    "    <li><span style=\"color:blue\"><span style=\"color:red\">Array indexing</span> is the same as accessing an <span style=\"color:red\">array element</span>.</span></li>\n",
    "    <li><span style=\"color:blue\">You can access an array element by referring to its <span style=\"color:red\">index number</span>.</span></li>\n",
    "    <li><span style=\"color:blue\">The indexes in NumPy arrays start with <span style=\"color:red\">0</span>, meaning that the first element has index <span style=\"color:red\">0</span>, and the second has index <span style=\"color:red\">1</span> etc.</span></li>\n",
    "</ul>"
   ]
  },
  {
   "cell_type": "code",
   "execution_count": 1,
   "id": "862aeb3c",
   "metadata": {},
   "outputs": [],
   "source": [
    "import numpy as np    # Importing NumPy Libary"
   ]
  },
  {
   "cell_type": "code",
   "execution_count": 4,
   "id": "2aeb4b0d",
   "metadata": {},
   "outputs": [
    {
     "name": "stdout",
     "output_type": "stream",
     "text": [
      "1\n",
      "3\n"
     ]
    }
   ],
   "source": [
    "arr = np.array([1, 2, 3, 4])\n",
    "print(arr[0])    # First element\n",
    "print(arr[2])    # Third element"
   ]
  },
  {
   "cell_type": "code",
   "execution_count": 6,
   "id": "e0a83958",
   "metadata": {},
   "outputs": [
    {
     "name": "stdout",
     "output_type": "stream",
     "text": [
      "6\n"
     ]
    }
   ],
   "source": [
    "arr = np.array([1, 2, 3, 4])\n",
    "print(arr[1] + arr[3])    # Adding a second and fourth element"
   ]
  },
  {
   "cell_type": "markdown",
   "id": "df6d40da",
   "metadata": {},
   "source": [
    "<h3 style=\"font-family:monospace\">Access 2-D Array :</h3>"
   ]
  },
  {
   "cell_type": "markdown",
   "id": "06cc3fcd",
   "metadata": {},
   "source": [
    "<ul style=\"font-family:monospace\">\n",
    "    <li><span style=\"color:blue\">To access elements from 2-D arrays we can use <span style=\"color:red\">comma</span> separated integers representing the <span style=\"color:red\">dimension</span> and the <span style=\"color:red\">index</span> of the element.</span></li>\n",
    "    <li><span style=\"color:blue\">Think of 2-D arrays like a table with rows and columns, where the <span style=\"color:red\">dimension</span> represents the <span style=\"color:red\">row</span> and the <span style=\"color:red\">index</span> represents the <span style=\"color:red\">column</span>.</span></li>\n",
    "</ul>"
   ]
  },
  {
   "cell_type": "code",
   "execution_count": 15,
   "id": "0a4fff80",
   "metadata": {
    "scrolled": false
   },
   "outputs": [
    {
     "name": "stdout",
     "output_type": "stream",
     "text": [
      "2\n"
     ]
    }
   ],
   "source": [
    "arr = np.array([[1, 2, 3, 4], [5, 6, 7, 8]])\n",
    "print(arr[0, 1])"
   ]
  },
  {
   "cell_type": "markdown",
   "id": "6c313fa8",
   "metadata": {},
   "source": [
    "<p style=\"font-family:monospace\">Explaination :</p>"
   ]
  },
  {
   "cell_type": "markdown",
   "id": "fe1c80c2",
   "metadata": {},
   "source": [
    "<p style=\"font-family: monospace\"><span style=\"color:red\">arr[0, 1]</span> prints the value <span style=\"color:red\">2</span></p>\n",
    "<p style=\"font-family: monospace\">The first number represents the <span style=\"color:red\">first dimension</span>, which contains an arrays :</p>\n",
    "<p style=\"font-family: monospace\">[1, 2, 3, 4] --> first dimension (0)</p>\n",
    "<p style=\"font-family: monospace\">[5, 6, 7, 8] --> second dimension (1)</p>\n",
    "<p style=\"font-family: monospace\">Since we selected <span style=\"color:red\">0</span>, we are left with the <span style=\"color:red\">first array</span> :</p>\n",
    "<p style=\"font-family: monospace\">[1, 2, 3, 4] --> first dimension (0)</p>\n",
    "<p style=\"font-family: monospace\">The second number represents the <span style=\"color:red\">first index</span>, which contain <span style=\"color:red\">4</span> values :</p>\n",
    "<p style=\"font-family: monospace\">1 --> first element (0)</p>\n",
    "<p style=\"font-family: monospace\">2 --> second element (1)</p>\n",
    "<p style=\"font-family: monospace\">3 --> third element (2)</p>\n",
    "<p style=\"font-family: monospace\">4 --> fourth element (3)</p>\n",
    "<p style=\"font-family: monospace\">Since we selected <span style=\"color:red\">1</span>, we end up with the <span style=\"color:red\">second</span> element :</p>\n",
    "<p style=\"font-family: monospace\">2</p>"
   ]
  },
  {
   "cell_type": "code",
   "execution_count": 17,
   "id": "12b8a24d",
   "metadata": {},
   "outputs": [
    {
     "name": "stdout",
     "output_type": "stream",
     "text": [
      "0\n"
     ]
    }
   ],
   "source": [
    "arr = np.array([[1, 2, 3, 4, 5], [6, 7, 8, 9, 0]])\n",
    "print(arr[1, 4])"
   ]
  },
  {
   "cell_type": "markdown",
   "id": "e44839f4",
   "metadata": {},
   "source": [
    "<p style=\"font-family:monospace\">Explaination :</p>"
   ]
  },
  {
   "cell_type": "markdown",
   "id": "2bbe4790",
   "metadata": {},
   "source": [
    "<p style=\"font-family: monospace\"><span style=\"color:red\">arr[1, 4]</span> prints the value <span style=\"color:red\">0</span></p>\n",
    "<p style=\"font-family: monospace\">The first number represents the <span style=\"color:red\">second dimension</span>, which contains an arrays :</p>\n",
    "<p style=\"font-family: monospace\">[1, 2, 3, 4, 5] --> first dimension (0)</p>\n",
    "<p style=\"font-family: monospace\">[6, 7, 8, 9, 0] --> second dimension (1)</p>\n",
    "<p style=\"font-family: monospace\">Since we selected <span style=\"color:red\">1</span>, we are left with the <span style=\"color:red\">second array</span> :</p>\n",
    "<p style=\"font-family: monospace\">[6, 7, 8, 9, 0]</p>\n",
    "<p style=\"font-family: monospace\">The second number represents the <span style=\"color:red\">fourth index</span>, which contain <span style=\"color:red\">4</span> values :</p>\n",
    "<p style=\"font-family: monospace\">6 --> first element (0)</p>\n",
    "<p style=\"font-family: monospace\">7 --> second element (1)</p>\n",
    "<p style=\"font-family: monospace\">8 --> third element (2)</p>\n",
    "<p style=\"font-family: monospace\">9 --> fourth element (3)</p>\n",
    "<p style=\"font-family: monospace\">0 --> fifth element (4)</p>\n",
    "<p style=\"font-family: monospace\">Since we selected <span style=\"color:red\">4</span>, we end up with the <span style=\"color:red\">fifth</span> element :</p>\n",
    "<p style=\"font-family: monospace\">0</p>"
   ]
  },
  {
   "cell_type": "markdown",
   "id": "6fa2edbb",
   "metadata": {},
   "source": [
    "<h3 style=\"font-family:monospace\">Access 3-D Array :</h3>"
   ]
  },
  {
   "cell_type": "code",
   "execution_count": 12,
   "id": "d1681ebd",
   "metadata": {},
   "outputs": [
    {
     "name": "stdout",
     "output_type": "stream",
     "text": [
      "6\n"
     ]
    }
   ],
   "source": [
    "arr = np.array([[[1, 2], [3, 4]], [[5, 6], [7, 8,]]])\n",
    "print(arr[1, 0, 1])"
   ]
  },
  {
   "cell_type": "markdown",
   "id": "49c0cba6",
   "metadata": {},
   "source": [
    "<p style=\"font-family:monospace\">Explaination :</p>"
   ]
  },
  {
   "cell_type": "markdown",
   "id": "a2fb2f40",
   "metadata": {},
   "source": [
    "<p style=\"font-family: monospace\"><span style=\"color:red\">arr[1, 0, 1]</span> prints the value <span style=\"color:red\">6</span></p>\n",
    "<p style=\"font-family: monospace\">The first number represents the <span style=\"color:red\">second dimension</span>, which contains an arrays :</p>\n",
    "<p style=\"font-family: monospace\">[[1, 2], [3, 4]] --> first dimension (0)</p>\n",
    "<p style=\"font-family: monospace\">[[5, 6], [7, 8]] --> second dimension (1)</p>\n",
    "<p style=\"font-family: monospace\">Since we selected <span style=\"color:red\">1</span>, we are left with the <span style=\"color:red\">second array</span> :</p>\n",
    "<p style=\"font-family: monospace\">[[5, 6], [7, 8]]</p>\n",
    "<p style=\"font-family: monospace\">The second number represents the <span style=\"color:red\">first dimension</span>, which contain an arrays :</p>\n",
    "<p style=\"font-family: monospace\">[5, 6] --> first dimension (0)</p>\n",
    "<p style=\"font-family: monospace\">[7, 8] --> second dimension (1)</p>\n",
    "<p style=\"font-family: monospace\">Since we selected <span style=\"color:red\">0</span>, we are left with the <span style=\"color:red\">first array</span> :</p>\n",
    "<p style=\"font-family: monospace\">[5, 6]</p>\n",
    "<p style=\"font-family: monospace\">The third number represents the <span style=\"color:red\">first index</span>, which contain <span style=\"color:red\">2</span> values :</p>\n",
    "<p style=\"font-family: monospace\">5 --> first element (0)</p>\n",
    "<p style=\"font-family: monospace\">6 --> second element (1)</p>\n",
    "<p style=\"font-family: monospace\">Since we selected <span style=\"color:red\">1</span>, we end up with the <span style=\"color:red\">second</span> element :</p>\n",
    "<p style=\"font-family: monospace\">6</p>"
   ]
  },
  {
   "cell_type": "markdown",
   "id": "f6495b73",
   "metadata": {},
   "source": [
    "<h3 style=\"font-family:monospace\">Negative Indexing :</h3>"
   ]
  },
  {
   "cell_type": "code",
   "execution_count": 18,
   "id": "9401b1a5",
   "metadata": {},
   "outputs": [
    {
     "name": "stdout",
     "output_type": "stream",
     "text": [
      "8\n"
     ]
    }
   ],
   "source": [
    "arr = np.array([[1, 2, 3, 4], [5, 6, 7, 8]])\n",
    "print(arr[1, -1])"
   ]
  }
 ],
 "metadata": {
  "kernelspec": {
   "display_name": "Python 3 (ipykernel)",
   "language": "python",
   "name": "python3"
  },
  "language_info": {
   "codemirror_mode": {
    "name": "ipython",
    "version": 3
   },
   "file_extension": ".py",
   "mimetype": "text/x-python",
   "name": "python",
   "nbconvert_exporter": "python",
   "pygments_lexer": "ipython3",
   "version": "3.11.5"
  }
 },
 "nbformat": 4,
 "nbformat_minor": 5
}
