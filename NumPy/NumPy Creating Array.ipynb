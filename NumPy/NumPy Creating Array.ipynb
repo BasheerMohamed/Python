{
 "cells": [
  {
   "cell_type": "markdown",
   "id": "2a296a22",
   "metadata": {},
   "source": [
    "<h3 style=\"font-family:monospace\">Creating a NumPy ndarray Object :</h3>"
   ]
  },
  {
   "cell_type": "markdown",
   "id": "510a8c21",
   "metadata": {},
   "source": [
    "<ul style=\"font-family: monospace\">\n",
    "    <li><span style=\"color:blue\">NumPy is used to <span style=\"color:red\">working with arrays</span>.</span></li>\n",
    "    <li><span style=\"color:blue\">The array object in NumPy is called <span style=\"color:red\">ndarray</span>.</span></li>\n",
    "    <li><span style=\"color:blue\">We can create a NumPy <span style=\"color:red\">ndarray</span> object by using the <span style=\"color:red\">array()</span> function.</span></li>\n",
    "    <li><span style=\"color:blue\">Unlike lists, all elements of a NumPy array are of the <span style=\"color:red\">same type</span>.</span></li>\n",
    "</ul>"
   ]
  },
  {
   "cell_type": "code",
   "execution_count": 2,
   "id": "919e2765",
   "metadata": {},
   "outputs": [],
   "source": [
    "import numpy as np    # Import NumPy Libary"
   ]
  },
  {
   "cell_type": "code",
   "execution_count": 7,
   "id": "3ff0c7a2",
   "metadata": {
    "scrolled": true
   },
   "outputs": [
    {
     "name": "stdout",
     "output_type": "stream",
     "text": [
      "[1 2 3 4 5]\n",
      "<class 'numpy.ndarray'>\n"
     ]
    }
   ],
   "source": [
    "arr = np.array([1, 2, 3, 4, 5])    # Passing a List\n",
    "print(arr)\n",
    "print(type(arr))"
   ]
  },
  {
   "cell_type": "markdown",
   "id": "26bb00f3",
   "metadata": {},
   "source": [
    "<p style=\"font-family:monospace;color:blue;background-color: whitesmoke; padding:10px;border-radius:5px\"><span style=\"color:black;font-weight:bolder\">type() :</span> This built-in Python function tells us the <span style=\"color:red\">type of the object</span> passed to it. Like in above code it shows that <span style=\"color:red\">arr</span> is <span style=\"color:red\">numpy.ndarray </span>type.</p>"
   ]
  },
  {
   "cell_type": "markdown",
   "id": "82074281",
   "metadata": {},
   "source": [
    "<p style=\"font-family:monospace;color:black;\">To create an <span style=\"color:red\">ndarray</span>, we can pass a <span style=\"color:red\">list</span>, <span style=\"color:red\">tuple</span> or any <span style=\"color:red\">array-like object</span> into the <span style=\"color:red\">array()</span> method, and it will be converted into an <span style=\"color:red\">ndarray</span>:</p>"
   ]
  },
  {
   "cell_type": "code",
   "execution_count": 6,
   "id": "38f745cd",
   "metadata": {},
   "outputs": [
    {
     "name": "stdout",
     "output_type": "stream",
     "text": [
      "[1 2 3 4 5]\n",
      "<class 'numpy.ndarray'>\n"
     ]
    }
   ],
   "source": [
    "arr = np.array((1, 2, 3, 4, 5))    # Passing a Tuple\n",
    "print(arr)\n",
    "print(type(arr))"
   ]
  },
  {
   "cell_type": "code",
   "execution_count": 23,
   "id": "17327c01",
   "metadata": {},
   "outputs": [],
   "source": [
    "intarr = np.array([1, 2, 3, 4])    # Creating Array of Integer \n",
    "floatarr = np.array([1.1, 2.2, 3.3, 4.4])    # Creating Array of Float"
   ]
  },
  {
   "cell_type": "markdown",
   "id": "570816a4",
   "metadata": {},
   "source": [
    "<p style=\"font-family:monospace;color:black;\">If we mix <span style=\"color:red\">ints</span> and <span style=\"color:red\">floats</span>, NumPy defaults to <span style=\"color:red\">array of floats</span>.</p>"
   ]
  },
  {
   "cell_type": "code",
   "execution_count": 27,
   "id": "a246316c",
   "metadata": {},
   "outputs": [
    {
     "name": "stdout",
     "output_type": "stream",
     "text": [
      "[1.  2.2 3.3 4. ]\n"
     ]
    }
   ],
   "source": [
    "arr = np.array([1, 2.2, 3.3, 4])\n",
    "print(arr)"
   ]
  },
  {
   "cell_type": "markdown",
   "id": "35fd4986",
   "metadata": {},
   "source": [
    "<p style=\"font-family:monospace;color:black;\">If we wish we can also specify the <span style=\"color:red\">type</span>.</p>"
   ]
  },
  {
   "cell_type": "code",
   "execution_count": 30,
   "id": "90d1d77b",
   "metadata": {},
   "outputs": [
    {
     "name": "stdout",
     "output_type": "stream",
     "text": [
      "[1 2 3 4]\n",
      "[1.1 2.2 3.3 4.4]\n",
      "[1 2 3 4]\n"
     ]
    }
   ],
   "source": [
    "a = np.array([1, 2, 3, 4], int)    \n",
    "b = np.array([1.1, 2.2, 3.3, 4.4], float)\n",
    "c = np.array([1.1, 2.2, 3.3, 4.4], int)\n",
    "print(a)\n",
    "print(b)\n",
    "print(c)"
   ]
  },
  {
   "cell_type": "markdown",
   "id": "33d809f8",
   "metadata": {},
   "source": [
    "<p style=\"font-family:monospace;color:black;\"><span style=\"color:red\">Array of complex</span> numbers also be created.</p>"
   ]
  },
  {
   "cell_type": "code",
   "execution_count": 29,
   "id": "acaf018d",
   "metadata": {},
   "outputs": [
    {
     "name": "stdout",
     "output_type": "stream",
     "text": [
      "[1.+0.j 2.+0.j 3.+0.j 4.+0.j]\n"
     ]
    }
   ],
   "source": [
    "comarr = np.array([1, 2, 3, 4], complex)\n",
    "print(comarr)"
   ]
  },
  {
   "cell_type": "markdown",
   "id": "42aa04fc",
   "metadata": {},
   "source": [
    "<h3 style=\"font-family:monospace\">Dimensions in Arrays :</h3>"
   ]
  },
  {
   "cell_type": "markdown",
   "id": "7b22898a",
   "metadata": {},
   "source": [
    "<h3 style=\"font-family:monospace\">0-D Arrays :</h3>"
   ]
  },
  {
   "cell_type": "markdown",
   "id": "0435f635",
   "metadata": {},
   "source": [
    "<li><span style=\"font-family:monospace;color:blue;\"><span style=\"color:red\">0-D arrays</span>, or <span style=\"color:red\">Scalars</span>, are the elements in an array.</span></li>\n",
    "<li><span style=\"font-family:monospace;color:blue;\">Each value in an array is a <span style=\"color:red\">0-D array</span>.</span></li>"
   ]
  },
  {
   "cell_type": "code",
   "execution_count": 9,
   "id": "015e1a53",
   "metadata": {},
   "outputs": [
    {
     "name": "stdout",
     "output_type": "stream",
     "text": [
      "45\n"
     ]
    }
   ],
   "source": [
    "arr = np.array(45)\n",
    "print(arr)"
   ]
  },
  {
   "cell_type": "markdown",
   "id": "b882865c",
   "metadata": {},
   "source": [
    "<h3 style=\"font-family:monospace\">1-D Arrays :</h3>"
   ]
  },
  {
   "cell_type": "markdown",
   "id": "2ab50be9",
   "metadata": {},
   "source": [
    "<li><span style=\"font-family:monospace;color:blue;\">An array that has <span style=\"color:red\">0-D arrays</span> as its elements is called <span style=\"color:red\">uni-dimensional</span> or <span style=\"color:red\">1-D arrays</span>.</span></li>"
   ]
  },
  {
   "cell_type": "code",
   "execution_count": 10,
   "id": "95ae039a",
   "metadata": {},
   "outputs": [
    {
     "name": "stdout",
     "output_type": "stream",
     "text": [
      "[1 2 3 4 5]\n"
     ]
    }
   ],
   "source": [
    "arr = np.array([1, 2, 3, 4, 5])\n",
    "print(arr)"
   ]
  },
  {
   "cell_type": "markdown",
   "id": "389354b2",
   "metadata": {},
   "source": [
    "<h3 style=\"font-family:monospace\">2-D Arrays :</h3>"
   ]
  },
  {
   "cell_type": "markdown",
   "id": "6ff40c5c",
   "metadata": {},
   "source": [
    "<li><span style=\"font-family:monospace;color:blue;\">An array that has <span style=\"color:red\">1-D arrays</span> as its elements is called <span style=\"color:red\">2-D arrays</span>.</span></li>\n",
    "<li><span style=\"font-family:monospace;color:blue;\">These are often used to represent <span style=\"color:red\">matrix</span> or <span style=\"color:red\">2nd order tensors</span>.</span></li>"
   ]
  },
  {
   "cell_type": "code",
   "execution_count": 12,
   "id": "8b436af4",
   "metadata": {},
   "outputs": [
    {
     "name": "stdout",
     "output_type": "stream",
     "text": [
      "[[1 2 3]\n",
      " [4 5 6]]\n"
     ]
    }
   ],
   "source": [
    "arr = np.array([[1, 2, 3], [4, 5, 6]])\n",
    "print(arr)"
   ]
  },
  {
   "cell_type": "markdown",
   "id": "15e9d179",
   "metadata": {},
   "source": [
    "<h3 style=\"font-family:monospace\">3-D Arrays :</h3>"
   ]
  },
  {
   "cell_type": "markdown",
   "id": "7f40c67d",
   "metadata": {},
   "source": [
    "<li><span style=\"font-family:monospace;color:blue;\">An array that has <span style=\"color:red\">2-D arrays</span> as its elements is called <span style=\"color:red\">3-D arrays</span>.</span></li>\n",
    "<li><span style=\"font-family:monospace;color:blue;\">These are often used to represent <span style=\"color:red\">3nd order tensors</span>.</span></li>"
   ]
  },
  {
   "cell_type": "code",
   "execution_count": 13,
   "id": "20192836",
   "metadata": {},
   "outputs": [
    {
     "name": "stdout",
     "output_type": "stream",
     "text": [
      "[[[1 2]\n",
      "  [4 5]]\n",
      "\n",
      " [[6 7]\n",
      "  [8 9]]]\n"
     ]
    }
   ],
   "source": [
    "arr = np.array([[[1, 2], [4, 5]], [[6, 7], [8, 9]]])\n",
    "print(arr)"
   ]
  },
  {
   "cell_type": "markdown",
   "id": "ebd3e07f",
   "metadata": {},
   "source": [
    "<h3 style=\"font-family:monospace\">Checking Number of Dimensions ?</h3>"
   ]
  },
  {
   "cell_type": "markdown",
   "id": "1c84ccac",
   "metadata": {},
   "source": [
    "<p style=\"font-family:monospace;color:black;\">NumPy Arrays provides the <span style=\"color:red\">ndim</span> attribute that returns an <span style=\"color:red\">integer</span> that tells us <span style=\"color:red\">how many dimensions the array have</span>.</p>"
   ]
  },
  {
   "cell_type": "code",
   "execution_count": 18,
   "id": "19e2cf52",
   "metadata": {},
   "outputs": [
    {
     "name": "stdout",
     "output_type": "stream",
     "text": [
      "0\n",
      "1\n",
      "2\n",
      "3\n"
     ]
    }
   ],
   "source": [
    "a = np.array(45)\n",
    "b = np.array([1, 2, 3])\n",
    "c = np.array([[1, 2, 3], [4, 5, 6]])\n",
    "d = np.array([[[1, 2], [4, 5]], [[6, 7], [8, 9]]])\n",
    "\n",
    "print(a.ndim)\n",
    "print(b.ndim)\n",
    "print(c.ndim)\n",
    "print(d.ndim)"
   ]
  },
  {
   "cell_type": "markdown",
   "id": "c871bc1b",
   "metadata": {},
   "source": [
    "<h3 style=\"font-family:monospace\">Higer Dimensional Array :</h3>"
   ]
  },
  {
   "cell_type": "markdown",
   "id": "d445accd",
   "metadata": {},
   "source": [
    "<li><span style=\"font-family:monospace;color:blue;\">An array can have any number of dimensions.</span></li>\n",
    "<li><span style=\"font-family:monospace;color:blue;\">When the array is created, you can define the number of dimensions using the <span style=\"color:red\">ndmin</span> argument.</span></li>"
   ]
  },
  {
   "cell_type": "code",
   "execution_count": 21,
   "id": "94cf1997",
   "metadata": {},
   "outputs": [
    {
     "name": "stdout",
     "output_type": "stream",
     "text": [
      "[[[[[1 2 3 4]]]]]\n"
     ]
    }
   ],
   "source": [
    "arr = np.array([1, 2, 3, 4], ndmin=5)\n",
    "print(arr)"
   ]
  },
  {
   "cell_type": "markdown",
   "id": "bcfd6e1b",
   "metadata": {},
   "source": [
    "<p style=\"font-family:monospace;color:black;\">In this array the innermost dimension (<span style=\"color:red\">5th dim</span>) has <span style=\"color:red\">4 elements</span>, the <span style=\"color:red\">4th dim</span> has <span style=\"color:red\">1 element</span> that is the <span style=\"color:red\">vector</span>, the <span style=\"color:red\">3rd dim</span> has <span style=\"color:red\">1 element</span> that is the <span style=\"color:red\">matrix</span> with the <span style=\"color:red\">vector</span>, the <span style=\"color:red\">2nd dim</span> has <span style=\"color:red\">1 element</span> that is <span style=\"color:red\">3D array</span> and <span style=\"color:red\">1st dim</span> has <span style=\"color:red\">1 element</span> that is a <span style=\"color:red\">4D array</span>.</p>"
   ]
  }
 ],
 "metadata": {
  "kernelspec": {
   "display_name": "Python 3 (ipykernel)",
   "language": "python",
   "name": "python3"
  },
  "language_info": {
   "codemirror_mode": {
    "name": "ipython",
    "version": 3
   },
   "file_extension": ".py",
   "mimetype": "text/x-python",
   "name": "python",
   "nbconvert_exporter": "python",
   "pygments_lexer": "ipython3",
   "version": "3.11.5"
  }
 },
 "nbformat": 4,
 "nbformat_minor": 5
}
