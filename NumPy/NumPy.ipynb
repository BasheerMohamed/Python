{
 "cells": [
  {
   "cell_type": "markdown",
   "id": "4ede009e",
   "metadata": {},
   "source": [
    "<h2 style=\"font-family:monospace;\">Introduction :</h2>"
   ]
  },
  {
   "cell_type": "markdown",
   "id": "e98d061f",
   "metadata": {},
   "source": [
    "<ul style=\"font-family:monospace\">\n",
    "    <li><span style=\"color:blue\">NumPy stands for <span style=\"color:red\">Numerical Python</span>.</span></li>\n",
    "    <li><span style=\"color:blue\">NumPy is a <span style=\"color:red\">Python library</span> used for <span style=\"color:red\">working with arrays</span>.</span></li>\n",
    "    <li><span style=\"color:blue\">NumPy was created in <span style=\"color:red\">2005</span> by <span style=\"color:red\">Travis Oliphant</span>.</span></li>\n",
    "    <li><span style=\"color:blue\">It is a popular libary used for soving problems in <span style=\"color:red\">science</span> and <span style=\"color:red\">engineering</span>.</span></li>\n",
    "    <li><span style=\"color:blue\">It provides <span style=\"color:red\">high performance multidimensional array object</span>, and <span style=\"color:red\">methods</span> for fast operations on array.</span></li>\n",
    "    <li><span style=\"color:blue\">It also has functions for working in domain of <span style=\"color:red\">linear algebra</span>, <span style=\"color:red\">fourier transform</span>, and <span style=\"color:red\">matrices</span>.</span></li>\n",
    "</ul>"
   ]
  },
  {
   "cell_type": "code",
   "execution_count": null,
   "id": "94f4cd35",
   "metadata": {},
   "outputs": [],
   "source": []
  }
 ],
 "metadata": {
  "kernelspec": {
   "display_name": "Python 3 (ipykernel)",
   "language": "python",
   "name": "python3"
  },
  "language_info": {
   "codemirror_mode": {
    "name": "ipython",
    "version": 3
   },
   "file_extension": ".py",
   "mimetype": "text/x-python",
   "name": "python",
   "nbconvert_exporter": "python",
   "pygments_lexer": "ipython3",
   "version": "3.11.5"
  }
 },
 "nbformat": 4,
 "nbformat_minor": 5
}
