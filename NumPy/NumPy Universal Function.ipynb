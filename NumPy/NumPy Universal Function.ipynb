{
 "cells": [
  {
   "cell_type": "code",
   "execution_count": 2,
   "id": "2af82f26",
   "metadata": {},
   "outputs": [],
   "source": [
    "import numpy as np    # Import NumPy Libary"
   ]
  },
  {
   "cell_type": "markdown",
   "id": "1a251113",
   "metadata": {},
   "source": [
    "<h3 style=\"font-family:monospace\">NumPy ufunc :</h3>"
   ]
  },
  {
   "cell_type": "markdown",
   "id": "40d86981",
   "metadata": {},
   "source": [
    "<ul style=\"font-family:monospace\">\n",
    "    <li><span style=\"color:blue\">ufuncs stands for \"<span style=\"color:red\">Universal Functions</span>\".</span></li>\n",
    "    <li><span style=\"color:blue\">Universal functions in Numpy are <span style=\"color:red\">simple mathematical functions</span>.</span></li>\n",
    "    <li><span style=\"color:blue\">These functions include <span style=\"color:red\">standard trigonometric functions</span>, functions for <span style=\"color:red\">arithmetic operations</span>, <span style=\"color:red\">handling complex numbers</span>, <span style=\"color:red\">statistical functions</span>, etc.</span></li>\n",
    "    <li><span style=\"color:blue\">These functions operates on <span style=\"color:red\">ndarray</span> (<span style=\"color:red\">N-dimensional array</span>) <span style=\"color:red\">object</span>.</span></li>\n",
    "</ul>"
   ]
  },
  {
   "cell_type": "markdown",
   "id": "4a6dc73f",
   "metadata": {},
   "source": [
    "<h3 style=\"font-family:monospace\">Create Your Own ufunc :</h3>"
   ]
  },
  {
   "cell_type": "markdown",
   "id": "6e7818ae",
   "metadata": {},
   "source": [
    "<p style=\"font-family:monospace;color:blue;text-indent:24px;\">To create your own ufunc, you have to define a <span style=\"color:red\">function</span>, like you do with <span style=\"color:red\">normal functions</span> in Python, then you add it to your <span style=\"color:red\">NumPy ufunc library</span> with the <span style=\"color:red\">frompyfunc()</span> method.</p>"
   ]
  },
  {
   "cell_type": "markdown",
   "id": "2b3a5894",
   "metadata": {},
   "source": [
    "<p style=\"font-family:monospace\">The <span style=\"color:red\">frompyfunc()</span> method takes the following arguments :</p>\n",
    "<ol style=\"font-family:monospace\">\n",
    "    <li><span style=\"color:blue\"><span style=\"color:red\">function</span> <span style=\"color:black\">-</span> the name of the function.</span></li>\n",
    "    <li><span style=\"color:blue\"><span style=\"color:red\">inputs</span> <span style=\"color:black\">-</span> the number of input arguments (arrays).</span></li>\n",
    "    <li><span style=\"color:blue\"><span style=\"color:red\">outputs</span> <span style=\"color:black\">-</span> the number of output arrays.</span></li>\n",
    "</ol>"
   ]
  },
  {
   "cell_type": "markdown",
   "id": "1b7700fb",
   "metadata": {},
   "source": [
    "<h3 style=\"font-family:monospace;font-weight:bold;\">Example:</h3>"
   ]
  },
  {
   "cell_type": "code",
   "execution_count": 9,
   "id": "e0ab62fb",
   "metadata": {},
   "outputs": [
    {
     "name": "stdout",
     "output_type": "stream",
     "text": [
      "[6 8 10 12]\n"
     ]
    }
   ],
   "source": [
    "def add(x, y):\n",
    "    return x+y\n",
    "\n",
    "arr = np.frompyfunc(add, 2, 1)\n",
    "\n",
    "print(arr([1, 2, 3, 4], [5, 6 ,7, 8]))"
   ]
  },
  {
   "cell_type": "markdown",
   "id": "d501a3f9",
   "metadata": {},
   "source": [
    "<h3 style=\"font-family:monospace\">Check if a Function is a ufunc :</h3>"
   ]
  },
  {
   "cell_type": "code",
   "execution_count": 10,
   "id": "c4894d7d",
   "metadata": {},
   "outputs": [
    {
     "name": "stdout",
     "output_type": "stream",
     "text": [
      "<class 'numpy.ufunc'>\n"
     ]
    }
   ],
   "source": [
    "print(type(arr))"
   ]
  },
  {
   "cell_type": "markdown",
   "id": "94a7986b",
   "metadata": {},
   "source": [
    "<h3 style=\"font-family:monospace\">ufunc Simple Arithmetic :</h3>"
   ]
  },
  {
   "cell_type": "code",
   "execution_count": 20,
   "id": "c28d0666",
   "metadata": {},
   "outputs": [
    {
     "name": "stdout",
     "output_type": "stream",
     "text": [
      "[ 7  9 11 13 15]\n"
     ]
    }
   ],
   "source": [
    "arr1 = np.array([1, 2, 3, 4, 5])\n",
    "arr2 = np.array([6, 7, 8, 9, 10])\n",
    "\n",
    "print(np.add(arr1, arr2))"
   ]
  },
  {
   "cell_type": "markdown",
   "id": "bdcb5803",
   "metadata": {},
   "source": [
    "<p style=\"font-family:monospace\">The <span style=\"color:red\">add()</span> function <span style=\"color:red\">sums</span> the content of two arrays, and return the results in a <span style=\"color:red\">new array</span>.</p>"
   ]
  },
  {
   "cell_type": "code",
   "execution_count": 21,
   "id": "b6454f0a",
   "metadata": {},
   "outputs": [
    {
     "name": "stdout",
     "output_type": "stream",
     "text": [
      "[-5 -5 -5 -5 -5]\n"
     ]
    }
   ],
   "source": [
    "arr1 = np.array([1, 2, 3, 4, 5])\n",
    "arr2 = np.array([6, 7, 8, 9, 10])\n",
    "\n",
    "print(np.subtract(arr1, arr2))"
   ]
  },
  {
   "cell_type": "markdown",
   "id": "48084a6e",
   "metadata": {},
   "source": [
    "<p style=\"font-family:monospace\">The <span style=\"color:red\">subtract()</span> function <span style=\"color:red\">subtracts</span> the values from one array with the values from another array, and return the results in a <span style=\"color:red\">new array</span>.</p>"
   ]
  },
  {
   "cell_type": "code",
   "execution_count": 26,
   "id": "8947fa97",
   "metadata": {},
   "outputs": [
    {
     "name": "stdout",
     "output_type": "stream",
     "text": [
      "[ 6 14 24 36 50]\n"
     ]
    }
   ],
   "source": [
    "arr1 = np.array([1, 2, 3, 4, 5])\n",
    "arr2 = np.array([6, 7, 8, 9, 10])\n",
    "\n",
    "print(np.multiply(arr1, arr2))"
   ]
  },
  {
   "cell_type": "markdown",
   "id": "3facec69",
   "metadata": {},
   "source": [
    "<p style=\"font-family:monospace\">The <span style=\"color:red\">multiply()</span> function <span style=\"color:red\">multiplies</span> the values from one array with the values from another array, and return the results in a <span style=\"color:red\">new array</span>.</p>"
   ]
  },
  {
   "cell_type": "code",
   "execution_count": 27,
   "id": "809d1cb4",
   "metadata": {},
   "outputs": [
    {
     "name": "stdout",
     "output_type": "stream",
     "text": [
      "[0.16666667 0.28571429 0.375      0.44444444 0.5       ]\n"
     ]
    }
   ],
   "source": [
    "arr1 = np.array([1, 2, 3, 4, 5])\n",
    "arr2 = np.array([6, 7, 8, 9, 10])\n",
    "\n",
    "print(np.divide(arr1, arr2))"
   ]
  },
  {
   "cell_type": "markdown",
   "id": "b438060f",
   "metadata": {},
   "source": [
    "<p style=\"font-family:monospace\">The <span style=\"color:red\">divide()</span> function <span style=\"color:red\">divides</span> the values from one array with the values from another array, and return the results in a <span style=\"color:red\">new array</span>.</p>"
   ]
  },
  {
   "cell_type": "code",
   "execution_count": 30,
   "id": "f272d36a",
   "metadata": {},
   "outputs": [
    {
     "name": "stdout",
     "output_type": "stream",
     "text": [
      "[1 2 3 4 5]\n",
      "[1 2 3 4 5]\n"
     ]
    }
   ],
   "source": [
    "arr1 = np.array([1, 2, 3, 4, 5])\n",
    "arr2 = np.array([6, 7, 8, 9, 10])\n",
    "\n",
    "print(np.mod(arr1, arr2))\n",
    "print(np.remainder(arr1, arr2))"
   ]
  },
  {
   "cell_type": "markdown",
   "id": "d8b5dea1",
   "metadata": {},
   "source": [
    "<p style=\"font-family:monospace\">Both the <span style=\"color:red\">mod()</span> and the <span style=\"color:red\">remainder()</span> functions return the <span style=\"color:red\">remainder</span> of the values in the first array corresponding to the values in the second array, and return the results in a <span style=\"color:red\">new array</span>.</p>"
   ]
  },
  {
   "cell_type": "code",
   "execution_count": 29,
   "id": "5288a600",
   "metadata": {},
   "outputs": [
    {
     "name": "stdout",
     "output_type": "stream",
     "text": [
      "(array([0, 0, 0, 0, 0]), array([1, 2, 3, 4, 5]))\n"
     ]
    }
   ],
   "source": [
    "arr1 = np.array([1, 2, 3, 4, 5])\n",
    "arr2 = np.array([6, 7, 8, 9, 10])\n",
    "\n",
    "print(np.divmod(arr1, arr2))"
   ]
  },
  {
   "cell_type": "markdown",
   "id": "88f089b1",
   "metadata": {},
   "source": [
    "<p style=\"font-family:monospace\">The <span style=\"color:red\">divmod()</span> function return both the <span style=\"color:red\">quotient</span> and the <span style=\"color:red\">mod</span>. The return value is <span style=\"color:red\">two arrays</span>, the first array contains the <span style=\"color:red\">quotient</span> and second array contains the <span style=\"color:red\">mod</span>.</p>"
   ]
  },
  {
   "cell_type": "code",
   "execution_count": 31,
   "id": "b1400c5b",
   "metadata": {},
   "outputs": [
    {
     "name": "stdout",
     "output_type": "stream",
     "text": [
      "[      1     128    6561  262144 9765625]\n"
     ]
    }
   ],
   "source": [
    "arr1 = np.array([1, 2, 3, 4, 5])\n",
    "arr2 = np.array([6, 7, 8, 9, 10])\n",
    "\n",
    "print(np.power(arr1, arr2))"
   ]
  },
  {
   "cell_type": "markdown",
   "id": "67c2e6fb",
   "metadata": {},
   "source": [
    "<p style=\"font-family:monospace\">The <span style=\"color:red\">power()</span> function rises the values from the first array to the power of the values of the second array, and return the results in a <span style=\"color:red\">new array</span>.</p>"
   ]
  },
  {
   "cell_type": "code",
   "execution_count": 32,
   "id": "15b6796f",
   "metadata": {},
   "outputs": [
    {
     "name": "stdout",
     "output_type": "stream",
     "text": [
      "[1 2 3 4 5]\n",
      "[1 2 3 4 5]\n"
     ]
    }
   ],
   "source": [
    "arr = np.array([-1, 2, -3, 4, -5])\n",
    "\n",
    "print(np.absolute(arr))\n",
    "print(np.abs(arr))"
   ]
  },
  {
   "cell_type": "markdown",
   "id": "847a00b1",
   "metadata": {},
   "source": [
    "<p style=\"font-family:monospace\">Both the <span style=\"color:red\">absolute()</span> and the <span style=\"color:red\">abs()</span> functions do the same absolute operation.</p>"
   ]
  },
  {
   "cell_type": "markdown",
   "id": "0deb3c1b",
   "metadata": {},
   "source": [
    "<h3 style=\"font-family:monospace\">ufunc Rounding Decimals :</h3>"
   ]
  },
  {
   "cell_type": "code",
   "execution_count": 36,
   "id": "63a4ee1e",
   "metadata": {},
   "outputs": [
    {
     "name": "stdout",
     "output_type": "stream",
     "text": [
      "[  34. -356.]\n",
      "[  34. -356.]\n"
     ]
    }
   ],
   "source": [
    "print(np.trunc([34.5, -356.6]))\n",
    "print(np.fix([34.5, -356.6]))"
   ]
  },
  {
   "cell_type": "markdown",
   "id": "1f1e316f",
   "metadata": {},
   "source": [
    "<p style=\"font-family:monospace\">Both the <span style=\"color:red\">trunc()</span> and the <span style=\"color:red\">fix()</span> functions <span style=\"color:red\">remove the decimals</span>, and return the <span style=\"color:red\">float number closest to zero</span>.</p>"
   ]
  },
  {
   "cell_type": "code",
   "execution_count": 37,
   "id": "e4ca1d84",
   "metadata": {},
   "outputs": [
    {
     "name": "stdout",
     "output_type": "stream",
     "text": [
      "323.57\n"
     ]
    }
   ],
   "source": [
    "print(np.round(323.567, 2))"
   ]
  },
  {
   "cell_type": "markdown",
   "id": "408bc4dd",
   "metadata": {},
   "source": [
    "<p style=\"font-family:monospace\">The <span style=\"color:red\">around()</span> function <span style=\"color:red\">increments preceding digit</span> or <span style=\"color:red\">decimal</span> by <span style=\"color:red\">1</span> if <span style=\"color:red\">>=5</span> else <span style=\"color:red\">do nothing</span>.</p>"
   ]
  },
  {
   "cell_type": "code",
   "execution_count": 42,
   "id": "e670a564",
   "metadata": {},
   "outputs": [
    {
     "name": "stdout",
     "output_type": "stream",
     "text": [
      "[  34. -357.]\n"
     ]
    }
   ],
   "source": [
    "print(np.floor([34.5, -356.6]))"
   ]
  },
  {
   "cell_type": "markdown",
   "id": "d0a4ddaf",
   "metadata": {},
   "source": [
    "<p style=\"font-family:monospace\">The <span style=\"color:red\">floor()</span> function <span style=\"color:red\">rounds off decimal to nearest lower integer</span>.</p>"
   ]
  },
  {
   "cell_type": "code",
   "execution_count": 45,
   "id": "f55666cc",
   "metadata": {},
   "outputs": [
    {
     "name": "stdout",
     "output_type": "stream",
     "text": [
      "[  35. -356.]\n"
     ]
    }
   ],
   "source": [
    "print(np.ceil([34.5, -356.6]))"
   ]
  },
  {
   "cell_type": "markdown",
   "id": "4ed2dd8c",
   "metadata": {},
   "source": [
    "<p style=\"font-family:monospace\">The <span style=\"color:red\">ceil()</span> function <span style=\"color:red\">rounds off decimal to nearest upper integer</span>.</p>"
   ]
  },
  {
   "cell_type": "markdown",
   "id": "e5e3ea11",
   "metadata": {},
   "source": [
    "<h3 style=\"font-family:monospace\">ufunc Logs :</h3>"
   ]
  },
  {
   "cell_type": "code",
   "execution_count": 51,
   "id": "8121b7e8",
   "metadata": {},
   "outputs": [
    {
     "name": "stdout",
     "output_type": "stream",
     "text": [
      "[0.         1.         1.5849625  2.         2.32192809]\n"
     ]
    }
   ],
   "source": [
    "print(np.log2([1, 2, 3, 4, 5]))"
   ]
  },
  {
   "cell_type": "markdown",
   "id": "59450085",
   "metadata": {},
   "source": [
    "<p style=\"font-family:monospace\">The <span style=\"color:red\">log2()</span> function to perform log at the <span style=\"color:red\">base 2</span>.</p>"
   ]
  },
  {
   "cell_type": "code",
   "execution_count": 47,
   "id": "22aa2c97",
   "metadata": {},
   "outputs": [
    {
     "name": "stdout",
     "output_type": "stream",
     "text": [
      "[0.         0.30103    0.47712125 0.60205999 0.69897   ]\n"
     ]
    }
   ],
   "source": [
    "print(np.log10([1, 2, 3, 4, 5]))"
   ]
  },
  {
   "cell_type": "markdown",
   "id": "03559744",
   "metadata": {},
   "source": [
    "<p style=\"font-family:monospace\">The <span style=\"color:red\">log10()</span> function to perform log at the <span style=\"color:red\">base 10</span>.</p>"
   ]
  },
  {
   "cell_type": "code",
   "execution_count": 50,
   "id": "430bb3a6",
   "metadata": {},
   "outputs": [
    {
     "name": "stdout",
     "output_type": "stream",
     "text": [
      "[0.         0.69314718 1.09861229 1.38629436 1.60943791]\n"
     ]
    }
   ],
   "source": [
    "print(np.log([1, 2, 3, 4, 5]))"
   ]
  },
  {
   "cell_type": "markdown",
   "id": "d5b4b17d",
   "metadata": {},
   "source": [
    "<p style=\"font-family:monospace\">The <span style=\"color:red\">log()</span> function to perform log at the <span style=\"color:red\">base e</span>.</p>"
   ]
  },
  {
   "cell_type": "markdown",
   "id": "d46d3752",
   "metadata": {},
   "source": [
    "<h3 style=\"font-family:monospace\">Log at Any Base :</h3>"
   ]
  },
  {
   "cell_type": "markdown",
   "id": "876735bf",
   "metadata": {},
   "source": [
    "<p style=\"font-family:monospace\">NumPy does not provide any function to take <span style=\"color:red\">log at any base</span>, so we can use the <span style=\"color:red\">frompyfunc()</span> function along with inbuilt function <span style=\"color:red\">math.log()</span> with <span style=\"color:red\">two input parameters</span> and <span style=\"color:red\">one output parameter</span> :</p>"
   ]
  },
  {
   "cell_type": "code",
   "execution_count": 53,
   "id": "0c0a41a9",
   "metadata": {},
   "outputs": [],
   "source": [
    "from math import log    # Import math Libary for Log Class"
   ]
  },
  {
   "cell_type": "code",
   "execution_count": 54,
   "id": "43920822",
   "metadata": {
    "scrolled": true
   },
   "outputs": [
    {
     "name": "stdout",
     "output_type": "stream",
     "text": [
      "1.7005483074552052\n"
     ]
    }
   ],
   "source": [
    "nplog = np.frompyfunc(log, 2, 1)\n",
    "\n",
    "print(nplog(100, 15))"
   ]
  },
  {
   "cell_type": "markdown",
   "id": "30f06a20",
   "metadata": {},
   "source": [
    "<h3 style=\"font-family:monospace\">ufunc Summations :</h3>"
   ]
  },
  {
   "cell_type": "code",
   "execution_count": null,
   "id": "67c273cd",
   "metadata": {},
   "outputs": [],
   "source": []
  }
 ],
 "metadata": {
  "kernelspec": {
   "display_name": "Python 3 (ipykernel)",
   "language": "python",
   "name": "python3"
  },
  "language_info": {
   "codemirror_mode": {
    "name": "ipython",
    "version": 3
   },
   "file_extension": ".py",
   "mimetype": "text/x-python",
   "name": "python",
   "nbconvert_exporter": "python",
   "pygments_lexer": "ipython3",
   "version": "3.11.5"
  }
 },
 "nbformat": 4,
 "nbformat_minor": 5
}
