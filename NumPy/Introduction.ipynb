{
 "cells": [
  {
   "cell_type": "markdown",
   "id": "4ede009e",
   "metadata": {},
   "source": [
    "<h2 style=\"font-family:monospace;\">Introduction :</h2>"
   ]
  },
  {
   "cell_type": "markdown",
   "id": "e98d061f",
   "metadata": {},
   "source": [
    "<ul style=\"font-family:monospace\">\n",
    "    <li><span style=\"color:blue\">NumPy stands for <span style=\"color:red\">Numerical Python</span>.</span></li>\n",
    "    <li><span style=\"color:blue\">NumPy is a <span style=\"color:red\">Python library</span> used for <span style=\"color:red\">working with arrays</span>.</span></li>\n",
    "    <li><span style=\"color:blue\">NumPy was created in <span style=\"color:red\">2005</span> by <span style=\"color:red\">Travis Oliphant</span>.</span></li>\n",
    "    <li><span style=\"color:blue\">It is a popular libary used for soving problems in <span style=\"color:red\">science</span> and <span style=\"color:red\">engineering</span>.</span></li>\n",
    "    <li><span style=\"color:blue\">It provides <span style=\"color:red\">high performance multidimensional array object</span>, and <span style=\"color:red\">methods</span> for fast operations on array.</span></li>\n",
    "    <li><span style=\"color:blue\">These operations include <span style=\"color:red\">mathematical</span>, <span style=\"color:red\">logical</span>, <span style=\"color:red\">shape manipulation</span>, <span style=\"color:red\">sorting</span>,\n",
    "<span style=\"color:red\">selecting</span>, <span style=\"color:red\">I/O</span>, <span style=\"color:red\">statistical operations</span>, etc.</span></li>\n",
    "    <li><span style=\"color:blue\">It also has functions for working in domain of <span style=\"color:red\">linear algebra</span>, <span style=\"color:red\">fourier transform</span>, and <span style=\"color:red\">matrices</span>.</span></li>\n",
    "</ul>"
   ]
  },
  {
   "cell_type": "markdown",
   "id": "bdc80bc3",
   "metadata": {},
   "source": [
    "<h2 style=\"font-family:monospace;\">Why use NumPy ?</h2>"
   ]
  },
  {
   "cell_type": "markdown",
   "id": "770097bc",
   "metadata": {},
   "source": [
    "<ul style=\"font-family:monospace\">\n",
    "    <li><span style=\"color:blue\">In Python we have <span style=\"color:red\">lists </span> that serve the purpose of arrays, but they are <span style=\"color:red\">slow </span> to process.</span></li>\n",
    "    <li><span style=\"color:blue\">NumPy aims to provide an array object that is up to <span style=\"color:red\">50x faster </span> than traditional Python lists.</span></li>\n",
    "    <li><span style=\"color:blue\">The array object in NumPy is called <span style=\"color:red\">ndarray</span>, it provides a lot of supporting functions that make working with ndarray very easy.</span></li>\n",
    "    <li><span style=\"color:blue\">Arrays are very frequently used in <span style=\"color:red\">data science</span>, where <span style=\"color:red\">speed</span> and <span style=\"color:red\">resources</span> are very important.</span></li>\n",
    "</ul>"
   ]
  },
  {
   "cell_type": "markdown",
   "id": "b7853d11",
   "metadata": {},
   "source": [
    "<h2 style=\"font-family:monospace;\">Why is NumPy faster than Lists ?</h2>"
   ]
  },
  {
   "cell_type": "code",
   "execution_count": null,
   "id": "b99c7913",
   "metadata": {},
   "outputs": [],
   "source": []
  }
 ],
 "metadata": {
  "kernelspec": {
   "display_name": "Python 3 (ipykernel)",
   "language": "python",
   "name": "python3"
  },
  "language_info": {
   "codemirror_mode": {
    "name": "ipython",
    "version": 3
   },
   "file_extension": ".py",
   "mimetype": "text/x-python",
   "name": "python",
   "nbconvert_exporter": "python",
   "pygments_lexer": "ipython3",
   "version": "3.11.5"
  }
 },
 "nbformat": 4,
 "nbformat_minor": 5
}
