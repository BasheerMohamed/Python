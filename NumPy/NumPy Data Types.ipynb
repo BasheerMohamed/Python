{
 "cells": [
  {
   "cell_type": "markdown",
   "id": "9ac7c258",
   "metadata": {},
   "source": [
    "<h3 style=\"font-family:monospace\">Data Types in NumPy :</h3>"
   ]
  },
  {
   "cell_type": "markdown",
   "id": "fac0ebbb",
   "metadata": {},
   "source": [
    "<ul style=\"font-family:monospace\">\n",
    "    <li><span style=\"color:blue\">NumPy has some extra data types, and refer to data types with <span style=\"color:red\">one character</span> like <span style=\"color:red\">i</span> for <span style=\"color:red\">integers</span>, <span style=\"color:red\">u</span> for <span style=\"color:red\">unsigned integers</span> etc.</span></li>\n",
    "</ul>"
   ]
  },
  {
   "cell_type": "markdown",
   "id": "12f3d0f4",
   "metadata": {},
   "source": [
    "<h3 style=\"font-family:monospace\">List of Data Types in NumPy :</h3>"
   ]
  },
  {
   "cell_type": "markdown",
   "id": "77a2445b",
   "metadata": {},
   "source": [
    "<ul style=\"font-family:monospace\">\n",
    "    <li><span style=\"color:blue\"><span style=\"color:red\">i</span> - integer</span></li>\n",
    "    <li><span style=\"color:blue\"><span style=\"color:red\">b</span> - boolean</span></li>\n",
    "    <li><span style=\"color:blue\"><span style=\"color:red\">u</span> - unsigned integer</span></li>\n",
    "    <li><span style=\"color:blue\"><span style=\"color:red\">c</span> - complex float</span></li>\n",
    "    <li><span style=\"color:blue\"><span style=\"color:red\">m</span> - timedelta</span></li>\n",
    "    <li><span style=\"color:blue\"><span style=\"color:red\">M</span> - datetime</span></li>\n",
    "    <li><span style=\"color:blue\"><span style=\"color:red\">O</span> - object</span></li>\n",
    "    <li><span style=\"color:blue\"><span style=\"color:red\">S</span> - string</span></li>\n",
    "    <li><span style=\"color:blue\"><span style=\"color:red\">U</span> - unicode string</span></li>\n",
    "    <li><span style=\"color:blue\"><span style=\"color:red\">V</span> - fixed chunk of memory for other type ( void )</span></li>\n",
    "</ul>"
   ]
  },
  {
   "cell_type": "markdown",
   "id": "8127d831",
   "metadata": {},
   "source": [
    "<h3 style=\"font-family:monospace\">Checking the Data Type of an Array :</h3>"
   ]
  },
  {
   "cell_type": "markdown",
   "id": "6a186ae8",
   "metadata": {},
   "source": [
    "<ul style=\"font-family:monospace\">\n",
    "    <li><span style=\"color:blue\">The NumPy array object has a property called <span style=\"color:red\">dtype</span> that returns the <span style=\"color:red\">data type</span> of the array.</span></li>\n",
    "</ul>"
   ]
  },
  {
   "cell_type": "code",
   "execution_count": 4,
   "id": "3d16d354",
   "metadata": {},
   "outputs": [],
   "source": [
    "import numpy as np    # Importing NumPy Libary"
   ]
  },
  {
   "cell_type": "code",
   "execution_count": 4,
   "id": "43cd0b2b",
   "metadata": {},
   "outputs": [
    {
     "name": "stdout",
     "output_type": "stream",
     "text": [
      "int32\n"
     ]
    }
   ],
   "source": [
    "arr = np.array([1, 2, 3, 4, 5])\n",
    "print(arr.dtype)"
   ]
  },
  {
   "cell_type": "code",
   "execution_count": 6,
   "id": "3caf14a0",
   "metadata": {},
   "outputs": [
    {
     "name": "stdout",
     "output_type": "stream",
     "text": [
      "<U6\n"
     ]
    }
   ],
   "source": [
    "arr = np.array(['key', 'door', 'lock', 'window'])\n",
    "print(arr.dtype)"
   ]
  },
  {
   "cell_type": "markdown",
   "id": "85d5f4d4",
   "metadata": {},
   "source": [
    "<h3 style=\"font-family:monospace\">Creating Arrays With a Defined Data Type :</h3>"
   ]
  },
  {
   "cell_type": "code",
   "execution_count": 9,
   "id": "44c94a74",
   "metadata": {},
   "outputs": [
    {
     "name": "stdout",
     "output_type": "stream",
     "text": [
      "[b'1' b'2' b'3' b'4' b'5']\n",
      "|S1\n"
     ]
    }
   ],
   "source": [
    "arr = np.array([1, 2, 3, 4, 5], dtype='S')\n",
    "print(arr)\n",
    "print(arr.dtype)"
   ]
  },
  {
   "cell_type": "markdown",
   "id": "c9cd5774",
   "metadata": {},
   "source": [
    "<p style=\"font-family:monospace\">For <span style=\"color:red\">i</span>, <span style=\"color:red\">u</span>, <span style=\"color:red\">f</span>, <span style=\"color:red\">S</span> and <span style=\"color:red\">U</span> we can define size as well.</p>"
   ]
  },
  {
   "cell_type": "code",
   "execution_count": 5,
   "id": "4188cb07",
   "metadata": {},
   "outputs": [
    {
     "name": "stdout",
     "output_type": "stream",
     "text": [
      "[1 2 3 4 5]\n",
      "int32\n"
     ]
    }
   ],
   "source": [
    "arr = np.array([1, 2, 3, 4, 5], dtype='i4')\n",
    "print(arr)\n",
    "print(arr.dtype)"
   ]
  },
  {
   "cell_type": "markdown",
   "id": "d25f1106",
   "metadata": {},
   "source": [
    "<h3 style=\"font-family:monospace\">What if a Value Can Not Be Converted ?</h3>"
   ]
  },
  {
   "cell_type": "markdown",
   "id": "5787e846",
   "metadata": {},
   "source": [
    "<p style=\"font-family:monospace\">A non integer string like '<span style=\"color:red\">a</span>' can not be converted to <span style=\"color:red\">integer</span> (will raise an error):</p>"
   ]
  },
  {
   "cell_type": "code",
   "execution_count": 7,
   "id": "9a60c4d5",
   "metadata": {},
   "outputs": [
    {
     "ename": "ValueError",
     "evalue": "invalid literal for int() with base 10: 'a'",
     "output_type": "error",
     "traceback": [
      "\u001b[1;31m---------------------------------------------------------------------------\u001b[0m",
      "\u001b[1;31mValueError\u001b[0m                                Traceback (most recent call last)",
      "Cell \u001b[1;32mIn[7], line 1\u001b[0m\n\u001b[1;32m----> 1\u001b[0m arr \u001b[38;5;241m=\u001b[39m np\u001b[38;5;241m.\u001b[39marray([\u001b[38;5;124m'\u001b[39m\u001b[38;5;124ma\u001b[39m\u001b[38;5;124m'\u001b[39m, \u001b[38;5;124m'\u001b[39m\u001b[38;5;124m2\u001b[39m\u001b[38;5;124m'\u001b[39m, \u001b[38;5;124m'\u001b[39m\u001b[38;5;124mb\u001b[39m\u001b[38;5;124m'\u001b[39m, \u001b[38;5;124m'\u001b[39m\u001b[38;5;124m4\u001b[39m\u001b[38;5;124m'\u001b[39m, \u001b[38;5;124m'\u001b[39m\u001b[38;5;124mc\u001b[39m\u001b[38;5;124m'\u001b[39m], dtype\u001b[38;5;241m=\u001b[39m\u001b[38;5;124m'\u001b[39m\u001b[38;5;124mi\u001b[39m\u001b[38;5;124m'\u001b[39m)\n\u001b[0;32m      2\u001b[0m \u001b[38;5;28mprint\u001b[39m(arr)\n",
      "\u001b[1;31mValueError\u001b[0m: invalid literal for int() with base 10: 'a'"
     ]
    }
   ],
   "source": [
    "arr = np.array(['a', '2', 'b', '4', 'c'], dtype='i')\n",
    "print(arr)"
   ]
  },
  {
   "cell_type": "markdown",
   "id": "2722c768",
   "metadata": {},
   "source": [
    "<p style=\"font-family:monospace; color:blue\"><span style=\"font-weight:bold;color:black\">ValueError :</span> In Python ValueError is raised when the type of passed argument to a function is unexpected/incorrect.</p>"
   ]
  },
  {
   "cell_type": "markdown",
   "id": "7ab17175",
   "metadata": {},
   "source": [
    "<h3 style=\"font-family:monospace\">Converting Data Type on Existing Arrays :</h3>"
   ]
  },
  {
   "cell_type": "markdown",
   "id": "8ab27652",
   "metadata": {},
   "source": [
    "<ul style=\"font-family:monospace\">\n",
    "    <li><span style=\"color:blue\">The best way to change the data type of an existing array, is to make a copy of the array with the <span style=\"color:red\">astype()</span> method.</span></li>\n",
    "    <li><span style=\"color:blue\">The <span style=\"color:red\">astype()</span> function creates a <span style=\"color:red\">copy of the array</span>, and allows you to specify the <span style=\"color:red\">data type as a parameter</span>.</span></li>\n",
    "    <li><span style=\"color:blue\">The data type can be specified using a <span style=\"color:red\">string</span>, like '<span style=\"color:red\">f</span>' for <span style=\"color:red\">float</span>, '<span style=\"color:red\">i</span>' for <span style=\"color:red\">integer</span> etc. or you can use the data type directly like <span style=\"color:red\">float</span> for <span style=\"color:red\">float</span> and <span style=\"color:red\">int</span> for <span style=\"color:red\">integer</span>.</span></li>\n",
    "</ul>"
   ]
  },
  {
   "cell_type": "code",
   "execution_count": 8,
   "id": "2a05f024",
   "metadata": {},
   "outputs": [
    {
     "name": "stdout",
     "output_type": "stream",
     "text": [
      "[1 2 3 4 5]\n",
      "int32\n"
     ]
    }
   ],
   "source": [
    "arr = np.array([1.1, 2.2, 3.3, 4.4, 5.5])\n",
    "newarr = arr.astype('i')\n",
    "print(newarr)\n",
    "print(newarr.dtype)"
   ]
  },
  {
   "cell_type": "code",
   "execution_count": 9,
   "id": "a97ea1e4",
   "metadata": {},
   "outputs": [
    {
     "name": "stdout",
     "output_type": "stream",
     "text": [
      "[1 2 3 4 5]\n",
      "int32\n"
     ]
    }
   ],
   "source": [
    "arr = np.array([1.1, 2.2, 3.3, 4.4, 5.5])\n",
    "newarr = arr.astype(int)\n",
    "print(newarr)\n",
    "print(newarr.dtype)"
   ]
  },
  {
   "cell_type": "code",
   "execution_count": 10,
   "id": "136c22e0",
   "metadata": {},
   "outputs": [
    {
     "name": "stdout",
     "output_type": "stream",
     "text": [
      "[ True False  True]\n",
      "bool\n"
     ]
    }
   ],
   "source": [
    "arr = np.array([1, 0, 4])\n",
    "newarr = arr.astype(bool)\n",
    "print(newarr)\n",
    "print(newarr.dtype)"
   ]
  }
 ],
 "metadata": {
  "kernelspec": {
   "display_name": "Python 3 (ipykernel)",
   "language": "python",
   "name": "python3"
  },
  "language_info": {
   "codemirror_mode": {
    "name": "ipython",
    "version": 3
   },
   "file_extension": ".py",
   "mimetype": "text/x-python",
   "name": "python",
   "nbconvert_exporter": "python",
   "pygments_lexer": "ipython3",
   "version": "3.11.5"
  }
 },
 "nbformat": 4,
 "nbformat_minor": 5
}
